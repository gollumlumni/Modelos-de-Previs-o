{
 "cells": [
  {
   "cell_type": "markdown",
   "metadata": {},
   "source": [
    "### Como obter as informações de Formulários Instantâneos\n",
    "\n",
    "Inicialmente, para os testes, fizemos um formulário teste no colégio Aldeia; Tudo que eu vou obter é disso:\n",
    "\n",
    "Vamos usar a Graph API para ver as requisições e fazer um código para obter os mesmos resultados\n",
    "\n",
    "Para a Graph API você tem que ter essas permissões aqui:\n",
    "\n",
    "<p align=\"center\">\n",
    "<img src=\"Imagens/permissoes_siq.png\" width=\"400\">\n",
    "</p>\n",
    "\n",
    "- Para você conseguir alguma possível requisição que você não tenha, você tem que escrever, selecionar as suas permissões e regenerar o token.\n",
    "\n",
    "- Em tese esse link aqui era para falar sobre: [link](https://developers.facebook.com/docs/marketing-api/guides/lead-ads/create?locale=pt_BR)\n",
    "    - A realidade é que ele ensina via _page_id_; (bizuleo)\n",
    "        - No face ads, os formulários criados são associados à uma página e em tese pelo link ele te ensina a criar via API\n",
    "        - Eu não consegui acessar os formulários via Graph API desse jeito - Ficava falando que eu não tinha \"autoridade\"\n",
    "    - Como o nosso objetivo é consultar o formulário no conjunto de anúncios para ver as respostas, nosso caminho é outro: [leadgen_forms](https://developers.facebook.com/docs/graph-api/reference/page/leadgen_forms/) - Aqui tem parâmetros do `leadgen_forms`:\n",
    "\n",
    "Mesmo aí na documentação não tem tudo lá do Graph API, então para isso eu pedi para o Chat GPT apresentar os parâmetros, talvez te ajude (me ajudou pelo menos, e o que ele falou eu certifiquei):\n",
    "\n",
    "<p align=\"center\">\n",
    "  <img src=\"Imagens/tabela_chat.png\" width=\"800\">\n",
    "</p>\n",
    "\n",
    "Se você quiser ter uma noção do que eu obtive na Graph API, foi assim (presta atenção nas permissões também):\n",
    "\n",
    "<p align=\"center\">\n",
    "<img src=\"Imagens/permissoes_siq_2.png\" width=\"1200\">\n",
    "</p>\n",
    "\n",
    "- Beleza, mas o que importa pra gente mesmo são as respostas dos leads, que estão em `leads`;\n",
    "    - Dentro de `leads`, tem esses parâmetros aqui:\n",
    "        <p align=\"center\">\n",
    "        <img src=\"Imagens/leads_fields.png\" width=\"200\">\n",
    "        </p>\n",
    "    - As respostas ficam em `field_data` e você pode acessar também quando respondeu em `created_time`;\n",
    "    - Como não temos respostas (porque eu tive que desativar tudo pra não gastar dinheiro) no meu ele printou vazio, mas era para sair algo do tipo:\n",
    "\n",
    "    <p align=\"center\">\n",
    "    <img src=\"Imagens/field_data.png\" width=\"600\">\n",
    "    </p>\n",
    "\n",
    "Ok. Agora que já conhecemos os parâmetros, vamos implementar a coleta em Python:\n"
   ]
  },
  {
   "cell_type": "markdown",
   "metadata": {},
   "source": [
    "Bibliotecas"
   ]
  },
  {
   "cell_type": "code",
   "execution_count": 2,
   "metadata": {},
   "outputs": [
    {
     "name": "stdout",
     "output_type": "stream",
     "text": [
      "Collecting facebook-business\n",
      "  Downloading facebook_business-22.0.2-py3-none-any.whl.metadata (18 kB)\n",
      "Requirement already satisfied: requests>=2.3.0 in c:\\users\\fealp\\appdata\\local\\packages\\pythonsoftwarefoundation.python.3.11_qbz5n2kfra8p0\\localcache\\local-packages\\python311\\site-packages (from facebook-business) (2.32.3)\n",
      "Requirement already satisfied: six>=1.7.3 in c:\\users\\fealp\\appdata\\local\\packages\\pythonsoftwarefoundation.python.3.11_qbz5n2kfra8p0\\localcache\\local-packages\\python311\\site-packages (from facebook-business) (1.17.0)\n",
      "Collecting curlify>=2.1.0 (from facebook-business)\n",
      "  Downloading curlify-2.2.1.tar.gz (3.0 kB)\n",
      "  Installing build dependencies: started\n",
      "  Installing build dependencies: finished with status 'done'\n",
      "  Getting requirements to build wheel: started\n",
      "  Getting requirements to build wheel: finished with status 'done'\n",
      "  Preparing metadata (pyproject.toml): started\n",
      "  Preparing metadata (pyproject.toml): finished with status 'done'\n",
      "Collecting pycountry>=19.8.18 (from facebook-business)\n",
      "  Downloading pycountry-24.6.1-py3-none-any.whl.metadata (12 kB)\n",
      "Collecting aiohttp (from facebook-business)\n",
      "  Downloading aiohttp-3.11.14-cp311-cp311-win_amd64.whl.metadata (8.0 kB)\n",
      "Requirement already satisfied: charset-normalizer<4,>=2 in c:\\users\\fealp\\appdata\\local\\packages\\pythonsoftwarefoundation.python.3.11_qbz5n2kfra8p0\\localcache\\local-packages\\python311\\site-packages (from requests>=2.3.0->facebook-business) (3.4.1)\n",
      "Requirement already satisfied: idna<4,>=2.5 in c:\\users\\fealp\\appdata\\local\\packages\\pythonsoftwarefoundation.python.3.11_qbz5n2kfra8p0\\localcache\\local-packages\\python311\\site-packages (from requests>=2.3.0->facebook-business) (3.10)\n",
      "Requirement already satisfied: urllib3<3,>=1.21.1 in c:\\users\\fealp\\appdata\\local\\packages\\pythonsoftwarefoundation.python.3.11_qbz5n2kfra8p0\\localcache\\local-packages\\python311\\site-packages (from requests>=2.3.0->facebook-business) (2.3.0)\n",
      "Requirement already satisfied: certifi>=2017.4.17 in c:\\users\\fealp\\appdata\\local\\packages\\pythonsoftwarefoundation.python.3.11_qbz5n2kfra8p0\\localcache\\local-packages\\python311\\site-packages (from requests>=2.3.0->facebook-business) (2025.1.31)\n",
      "Collecting aiohappyeyeballs>=2.3.0 (from aiohttp->facebook-business)\n",
      "  Downloading aiohappyeyeballs-2.6.1-py3-none-any.whl.metadata (5.9 kB)\n",
      "Collecting aiosignal>=1.1.2 (from aiohttp->facebook-business)\n",
      "  Downloading aiosignal-1.3.2-py2.py3-none-any.whl.metadata (3.8 kB)\n",
      "Requirement already satisfied: attrs>=17.3.0 in c:\\users\\fealp\\appdata\\local\\packages\\pythonsoftwarefoundation.python.3.11_qbz5n2kfra8p0\\localcache\\local-packages\\python311\\site-packages (from aiohttp->facebook-business) (25.3.0)\n",
      "Collecting frozenlist>=1.1.1 (from aiohttp->facebook-business)\n",
      "  Downloading frozenlist-1.5.0-cp311-cp311-win_amd64.whl.metadata (14 kB)\n",
      "Collecting multidict<7.0,>=4.5 (from aiohttp->facebook-business)\n",
      "  Downloading multidict-6.2.0-cp311-cp311-win_amd64.whl.metadata (5.1 kB)\n",
      "Collecting propcache>=0.2.0 (from aiohttp->facebook-business)\n",
      "  Downloading propcache-0.3.1-cp311-cp311-win_amd64.whl.metadata (11 kB)\n",
      "Collecting yarl<2.0,>=1.17.0 (from aiohttp->facebook-business)\n",
      "  Downloading yarl-1.18.3-cp311-cp311-win_amd64.whl.metadata (71 kB)\n",
      "Downloading facebook_business-22.0.2-py3-none-any.whl (1.4 MB)\n",
      "   ---------------------------------------- 0.0/1.4 MB ? eta -:--:--\n",
      "   ---------------------------------------- 1.4/1.4 MB 14.0 MB/s eta 0:00:00\n",
      "Downloading pycountry-24.6.1-py3-none-any.whl (6.3 MB)\n",
      "   ---------------------------------------- 0.0/6.3 MB ? eta -:--:--\n",
      "   ------------------------ --------------- 3.9/6.3 MB 19.6 MB/s eta 0:00:01\n",
      "   ---------------------------------------- 6.3/6.3 MB 16.9 MB/s eta 0:00:00\n",
      "Downloading aiohttp-3.11.14-cp311-cp311-win_amd64.whl (443 kB)\n",
      "Downloading aiohappyeyeballs-2.6.1-py3-none-any.whl (15 kB)\n",
      "Downloading aiosignal-1.3.2-py2.py3-none-any.whl (7.6 kB)\n",
      "Downloading frozenlist-1.5.0-cp311-cp311-win_amd64.whl (51 kB)\n",
      "Downloading multidict-6.2.0-cp311-cp311-win_amd64.whl (29 kB)\n",
      "Downloading propcache-0.3.1-cp311-cp311-win_amd64.whl (45 kB)\n",
      "Downloading yarl-1.18.3-cp311-cp311-win_amd64.whl (91 kB)\n",
      "Building wheels for collected packages: curlify\n",
      "  Building wheel for curlify (pyproject.toml): started\n",
      "  Building wheel for curlify (pyproject.toml): finished with status 'done'\n",
      "  Created wheel for curlify: filename=curlify-2.2.1-py3-none-any.whl size=2751 sha256=2394ede8ae6797d65579548b3c491827d68028f494408b3bc30fbe8cc1ef08af\n",
      "  Stored in directory: c:\\users\\fealp\\appdata\\local\\packages\\pythonsoftwarefoundation.python.3.11_qbz5n2kfra8p0\\localcache\\local\\pip\\cache\\wheels\\e1\\6b\\61\\f8560ac125bd64f2b87b9af2f9ae08f8dbaec154f583a9e301\n",
      "Successfully built curlify\n",
      "Installing collected packages: pycountry, propcache, multidict, frozenlist, aiohappyeyeballs, yarl, curlify, aiosignal, aiohttp, facebook-business\n",
      "Successfully installed aiohappyeyeballs-2.6.1 aiohttp-3.11.14 aiosignal-1.3.2 curlify-2.2.1 facebook-business-22.0.2 frozenlist-1.5.0 multidict-6.2.0 propcache-0.3.1 pycountry-24.6.1 yarl-1.18.3\n"
     ]
    }
   ],
   "source": [
    "!pip install facebook-business"
   ]
  },
  {
   "cell_type": "code",
   "execution_count": 13,
   "metadata": {},
   "outputs": [],
   "source": [
    "from facebook_business.api import FacebookAdsApi\n",
    "from facebook_business.adobjects.lead import Lead\n",
    "from facebook_business.adobjects.leadgenform import LeadgenForm\n",
    "from facebook_business.adobjects.adaccount import AdAccount\n",
    "from facebook_business.adobjects.campaign import Campaign\n",
    "from facebook_business.adobjects.adset import AdSet\n",
    "from facebook_business.adobjects.ad import Ad\n",
    "from facebook_business.adobjects.adcreative import AdCreative\n",
    "import pandas as pd"
   ]
  },
  {
   "cell_type": "markdown",
   "metadata": {},
   "source": [
    "Acessos(vou deixar assim mesmo)"
   ]
  },
  {
   "cell_type": "markdown",
   "metadata": {},
   "source": [
    "Primeiro em tese, você teria que achar o `form_id`; Para isso eu fiz um código pra tu achar:"
   ]
  },
  {
   "cell_type": "code",
   "execution_count": 19,
   "metadata": {},
   "outputs": [
    {
     "ename": "FacebookRequestError",
     "evalue": "\n\n  Message: Call was not successful\n  Method:  GET\n  Path:    https://graph.facebook.com/v22.0/120218955688520775/adsets\n  Params:  {'fields': 'id,name,status', 'summary': 'true'}\n\n  Status:  400\n  Response:\n    {\n      \"error\": {\n        \"message\": \"User request limit reached\",\n        \"type\": \"OAuthException\",\n        \"is_transient\": false,\n        \"code\": 17,\n        \"error_subcode\": 2446079,\n        \"error_user_title\": \"A conta de an\\u00fancios tem uma quantidade excessiva de chamadas de API\",\n        \"error_user_msg\": \"Houve um n\\u00famero excessivo de liga\\u00e7\\u00f5es desta conta de an\\u00fancios. Aguarde um pouco e tente novamente.\",\n        \"fbtrace_id\": \"AxG1PA472i6RpAJnKiDffWd\"\n      }\n    }\n",
     "output_type": "error",
     "traceback": [
      "\u001b[31m---------------------------------------------------------------------------\u001b[39m",
      "\u001b[31mFacebookRequestError\u001b[39m                      Traceback (most recent call last)",
      "\u001b[36mCell\u001b[39m\u001b[36m \u001b[39m\u001b[32mIn[19]\u001b[39m\u001b[32m, line 9\u001b[39m\n\u001b[32m      6\u001b[39m campaigns = account.get_campaigns(fields=[\u001b[33m'\u001b[39m\u001b[33mid\u001b[39m\u001b[33m'\u001b[39m, \u001b[33m'\u001b[39m\u001b[33mname\u001b[39m\u001b[33m'\u001b[39m, \u001b[33m'\u001b[39m\u001b[33mstatus\u001b[39m\u001b[33m'\u001b[39m])\n\u001b[32m      8\u001b[39m \u001b[38;5;28;01mfor\u001b[39;00m campaign \u001b[38;5;129;01min\u001b[39;00m campaigns:\n\u001b[32m----> \u001b[39m\u001b[32m9\u001b[39m     adsets = \u001b[43mcampaign\u001b[49m\u001b[43m.\u001b[49m\u001b[43mget_ad_sets\u001b[49m\u001b[43m(\u001b[49m\u001b[43mfields\u001b[49m\u001b[43m=\u001b[49m\u001b[43m[\u001b[49m\u001b[33;43m'\u001b[39;49m\u001b[33;43mid\u001b[39;49m\u001b[33;43m'\u001b[39;49m\u001b[43m,\u001b[49m\u001b[43m \u001b[49m\u001b[33;43m'\u001b[39;49m\u001b[33;43mname\u001b[39;49m\u001b[33;43m'\u001b[39;49m\u001b[43m,\u001b[49m\u001b[43m \u001b[49m\u001b[33;43m'\u001b[39;49m\u001b[33;43mstatus\u001b[39;49m\u001b[33;43m'\u001b[39;49m\u001b[43m]\u001b[49m\u001b[43m)\u001b[49m \u001b[38;5;129;01mor\u001b[39;00m []\n\u001b[32m     11\u001b[39m     \u001b[38;5;28;01mfor\u001b[39;00m adset \u001b[38;5;129;01min\u001b[39;00m adsets:\n\u001b[32m     12\u001b[39m         ads = adset.get_ads(fields=[\u001b[33m'\u001b[39m\u001b[33mid\u001b[39m\u001b[33m'\u001b[39m, \u001b[33m'\u001b[39m\u001b[33mname\u001b[39m\u001b[33m'\u001b[39m, \u001b[33m'\u001b[39m\u001b[33mcreative\u001b[39m\u001b[33m'\u001b[39m]) \u001b[38;5;129;01mor\u001b[39;00m []\n",
      "\u001b[36mFile \u001b[39m\u001b[32m~\\AppData\\Local\\Packages\\PythonSoftwareFoundation.Python.3.11_qbz5n2kfra8p0\\LocalCache\\local-packages\\Python311\\site-packages\\facebook_business\\adobjects\\campaign.py:761\u001b[39m, in \u001b[36mCampaign.get_ad_sets\u001b[39m\u001b[34m(self, fields, params, batch, success, failure, pending)\u001b[39m\n\u001b[32m    759\u001b[39m \u001b[38;5;28;01melse\u001b[39;00m:\n\u001b[32m    760\u001b[39m     \u001b[38;5;28mself\u001b[39m.assure_call()\n\u001b[32m--> \u001b[39m\u001b[32m761\u001b[39m     \u001b[38;5;28;01mreturn\u001b[39;00m \u001b[43mrequest\u001b[49m\u001b[43m.\u001b[49m\u001b[43mexecute\u001b[49m\u001b[43m(\u001b[49m\u001b[43m)\u001b[49m\n",
      "\u001b[36mFile \u001b[39m\u001b[32m~\\AppData\\Local\\Packages\\PythonSoftwareFoundation.Python.3.11_qbz5n2kfra8p0\\LocalCache\\local-packages\\Python311\\site-packages\\facebook_business\\api.py:664\u001b[39m, in \u001b[36mFacebookRequest.execute\u001b[39m\u001b[34m(self)\u001b[39m\n\u001b[32m    653\u001b[39m \u001b[38;5;28;01mif\u001b[39;00m \u001b[38;5;28mself\u001b[39m._api_type == \u001b[33m\"\u001b[39m\u001b[33mEDGE\u001b[39m\u001b[33m\"\u001b[39m \u001b[38;5;129;01mand\u001b[39;00m \u001b[38;5;28mself\u001b[39m._method == \u001b[33m\"\u001b[39m\u001b[33mGET\u001b[39m\u001b[33m\"\u001b[39m:\n\u001b[32m    654\u001b[39m     cursor = Cursor(\n\u001b[32m    655\u001b[39m         target_objects_class=\u001b[38;5;28mself\u001b[39m._target_class,\n\u001b[32m    656\u001b[39m         params=params,\n\u001b[32m   (...)\u001b[39m\u001b[32m    662\u001b[39m         object_parser=\u001b[38;5;28mself\u001b[39m._response_parser,\n\u001b[32m    663\u001b[39m     )\n\u001b[32m--> \u001b[39m\u001b[32m664\u001b[39m     \u001b[43mcursor\u001b[49m\u001b[43m.\u001b[49m\u001b[43mload_next_page\u001b[49m\u001b[43m(\u001b[49m\u001b[43m)\u001b[49m\n\u001b[32m    665\u001b[39m     \u001b[38;5;28;01mreturn\u001b[39;00m cursor\n\u001b[32m    666\u001b[39m \u001b[38;5;28;01mif\u001b[39;00m \u001b[38;5;28mself\u001b[39m._fields:\n",
      "\u001b[36mFile \u001b[39m\u001b[32m~\\AppData\\Local\\Packages\\PythonSoftwareFoundation.Python.3.11_qbz5n2kfra8p0\\LocalCache\\local-packages\\Python311\\site-packages\\facebook_business\\api.py:828\u001b[39m, in \u001b[36mCursor.load_next_page\u001b[39m\u001b[34m(self)\u001b[39m\n\u001b[32m    821\u001b[39m \u001b[38;5;28;01mif\u001b[39;00m (\n\u001b[32m    822\u001b[39m     \u001b[38;5;28mself\u001b[39m._include_summary \u001b[38;5;129;01mand\u001b[39;00m\n\u001b[32m    823\u001b[39m     \u001b[33m'\u001b[39m\u001b[33mdefault_summary\u001b[39m\u001b[33m'\u001b[39m \u001b[38;5;129;01mnot\u001b[39;00m \u001b[38;5;129;01min\u001b[39;00m \u001b[38;5;28mself\u001b[39m.params \u001b[38;5;129;01mand\u001b[39;00m\n\u001b[32m    824\u001b[39m     \u001b[33m'\u001b[39m\u001b[33msummary\u001b[39m\u001b[33m'\u001b[39m \u001b[38;5;129;01mnot\u001b[39;00m \u001b[38;5;129;01min\u001b[39;00m \u001b[38;5;28mself\u001b[39m.params\n\u001b[32m    825\u001b[39m ):\n\u001b[32m    826\u001b[39m     \u001b[38;5;28mself\u001b[39m.params[\u001b[33m'\u001b[39m\u001b[33msummary\u001b[39m\u001b[33m'\u001b[39m] = \u001b[38;5;28;01mTrue\u001b[39;00m\n\u001b[32m--> \u001b[39m\u001b[32m828\u001b[39m response_obj = \u001b[38;5;28;43mself\u001b[39;49m\u001b[43m.\u001b[49m\u001b[43m_api\u001b[49m\u001b[43m.\u001b[49m\u001b[43mcall\u001b[49m\u001b[43m(\u001b[49m\n\u001b[32m    829\u001b[39m \u001b[43m    \u001b[49m\u001b[33;43m'\u001b[39;49m\u001b[33;43mGET\u001b[39;49m\u001b[33;43m'\u001b[39;49m\u001b[43m,\u001b[49m\n\u001b[32m    830\u001b[39m \u001b[43m    \u001b[49m\u001b[38;5;28;43mself\u001b[39;49m\u001b[43m.\u001b[49m\u001b[43m_path\u001b[49m\u001b[43m,\u001b[49m\n\u001b[32m    831\u001b[39m \u001b[43m    \u001b[49m\u001b[43mparams\u001b[49m\u001b[43m=\u001b[49m\u001b[38;5;28;43mself\u001b[39;49m\u001b[43m.\u001b[49m\u001b[43mparams\u001b[49m\u001b[43m,\u001b[49m\n\u001b[32m    832\u001b[39m \u001b[43m\u001b[49m\u001b[43m)\u001b[49m\n\u001b[32m    833\u001b[39m response = response_obj.json()\n\u001b[32m    834\u001b[39m \u001b[38;5;28mself\u001b[39m._headers = response_obj.headers()\n",
      "\u001b[36mFile \u001b[39m\u001b[32m~\\AppData\\Local\\Packages\\PythonSoftwareFoundation.Python.3.11_qbz5n2kfra8p0\\LocalCache\\local-packages\\Python311\\site-packages\\facebook_business\\api.py:336\u001b[39m, in \u001b[36mFacebookAdsApi.call\u001b[39m\u001b[34m(self, method, path, params, headers, files, url_override, api_version)\u001b[39m\n\u001b[32m    322\u001b[39m fb_response = FacebookResponse(\n\u001b[32m    323\u001b[39m     body=response.text,\n\u001b[32m    324\u001b[39m     headers=response.headers,\n\u001b[32m   (...)\u001b[39m\u001b[32m    332\u001b[39m     },\n\u001b[32m    333\u001b[39m )\n\u001b[32m    335\u001b[39m \u001b[38;5;28;01mif\u001b[39;00m fb_response.is_failure():\n\u001b[32m--> \u001b[39m\u001b[32m336\u001b[39m     \u001b[38;5;28;01mraise\u001b[39;00m fb_response.error()\n\u001b[32m    338\u001b[39m \u001b[38;5;28mself\u001b[39m._num_requests_succeeded += \u001b[32m1\u001b[39m\n\u001b[32m    339\u001b[39m \u001b[38;5;28;01mreturn\u001b[39;00m fb_response\n",
      "\u001b[31mFacebookRequestError\u001b[39m: \n\n  Message: Call was not successful\n  Method:  GET\n  Path:    https://graph.facebook.com/v22.0/120218955688520775/adsets\n  Params:  {'fields': 'id,name,status', 'summary': 'true'}\n\n  Status:  400\n  Response:\n    {\n      \"error\": {\n        \"message\": \"User request limit reached\",\n        \"type\": \"OAuthException\",\n        \"is_transient\": false,\n        \"code\": 17,\n        \"error_subcode\": 2446079,\n        \"error_user_title\": \"A conta de an\\u00fancios tem uma quantidade excessiva de chamadas de API\",\n        \"error_user_msg\": \"Houve um n\\u00famero excessivo de liga\\u00e7\\u00f5es desta conta de an\\u00fancios. Aguarde um pouco e tente novamente.\",\n        \"fbtrace_id\": \"AxG1PA472i6RpAJnKiDffWd\"\n      }\n    }\n"
     ]
    }
   ],
   "source": [
    "ACCESS_TOKEN = 'EAAHDFQfaZAG8BOxjHDEy1VT8mYRMMOn0d7cgoZBwZBuTCJxYlSH8SLE5h2OPZAZCsKpEBu4nQdi6CqsYjxjB5Kov4DZCbWxGZCK6qt9wjZA2G30EjJq0aWJuU0tZAhQqmQqkvvRwkw0rSi3x5GlG0VN4SroHx4ofgUxbELAONGGvT0dxYtIlIR5hncDZCjPqPZAIRJsnF8OSmeBxMv3MJx5LgZDZD'\n",
    "AD_ACCOUNT_ID = \"act_410857323915468\"\n",
    "FacebookAdsApi.init(access_token=ACCESS_TOKEN)\n",
    "account = AdAccount(AD_ACCOUNT_ID)\n",
    "\n",
    "campaigns = account.get_campaigns(fields=['id', 'name', 'status'])\n",
    "\n",
    "for campaign in campaigns:\n",
    "    adsets = campaign.get_ad_sets(fields=['id', 'name', 'status']) or []\n",
    "\n",
    "    for adset in adsets:\n",
    "        ads = adset.get_ads(fields=['id', 'name', 'creative']) or []\n",
    "\n",
    "        for ad in ads:\n",
    "            creative_id = ad.get('creative', {}).get('id')\n",
    "            if not creative_id:\n",
    "                continue\n",
    "\n",
    "            creative = AdCreative(creative_id).api_get(fields=['object_story_spec'])\n",
    "            form_id = (\n",
    "                creative.get('object_story_spec', {})\n",
    "                .get('lead_gen_form_id')\n",
    "            )\n",
    "\n",
    "            if form_id:\n",
    "                print(f\"\\nCampanha: {campaign['name']} (ID: {campaign['id']})\")\n",
    "                print(f\"AdSet: {adset['name']} (ID: {adset['id']})\")\n",
    "                print(f\"Anúncio: {ad['name']} (ID: {ad['id']})\")\n",
    "                print(f\"Form ID: {form_id}\")\n"
   ]
  },
  {
   "cell_type": "markdown",
   "metadata": {},
   "source": [
    "Deu erro porque eu excedi o número de requisições; mas basicamente o caminho é:\n",
    "\n",
    "AdAccount → Campaigns → AdSets → Ads → Creative → object_story_spec → lead_gen_form_id"
   ]
  },
  {
   "cell_type": "code",
   "execution_count": null,
   "metadata": {},
   "outputs": [],
   "source": [
    "ACCESS_TOKEN = 'EAAHDFQfaZAG8BOxjHDEy1VT8mYRMMOn0d7cgoZBwZBuTCJxYlSH8SLE5h2OPZAZCsKpEBu4nQdi6CqsYjxjB5Kov4DZCbWxGZCK6qt9wjZA2G30EjJq0aWJuU0tZAhQqmQqkvvRwkw0rSi3x5GlG0VN4SroHx4ofgUxbELAONGGvT0dxYtIlIR5hncDZCjPqPZAIRJsnF8OSmeBxMv3MJx5LgZDZD'\n",
    "FacebookAdsApi.init(access_token=ACCESS_TOKEN)\n",
    "FORM_ID = '1019924176190315'\n",
    "# Objeto do formulário\n",
    "form = LeadgenForm(FORM_ID)"
   ]
  },
  {
   "cell_type": "code",
   "execution_count": 20,
   "metadata": {},
   "outputs": [
    {
     "name": "stdout",
     "output_type": "stream",
     "text": [
      "Nome do formulário: Formulário Teste\n",
      "Status: ACTIVE\n",
      "Perguntas:\n",
      " - Email (type: EMAIL)\n",
      " - Full name (type: FULL_NAME)\n",
      " - Phone number (type: PHONE)\n",
      " - City (type: CITY)\n"
     ]
    }
   ],
   "source": [
    "# Obter status e perguntas do formulário\n",
    "form_data = form.api_get(fields=[\n",
    "    LeadgenForm.Field.name,\n",
    "    LeadgenForm.Field.status,\n",
    "    LeadgenForm.Field.questions\n",
    "])\n",
    "\n",
    "print(f\"Nome do formulário: {form_data['name']}\")\n",
    "print(f\"Status: {form_data['status']}\")\n",
    "print(\"Perguntas:\")\n",
    "for question in form_data['questions']:\n",
    "    print(f\" - {question['label']} (type: {question['type']})\")"
   ]
  },
  {
   "cell_type": "markdown",
   "metadata": {},
   "source": [
    "Respostas dos Leads(não vai printar nada)"
   ]
  },
  {
   "cell_type": "code",
   "execution_count": 9,
   "metadata": {},
   "outputs": [
    {
     "data": {
      "text/html": [
       "<div>\n",
       "<style scoped>\n",
       "    .dataframe tbody tr th:only-of-type {\n",
       "        vertical-align: middle;\n",
       "    }\n",
       "\n",
       "    .dataframe tbody tr th {\n",
       "        vertical-align: top;\n",
       "    }\n",
       "\n",
       "    .dataframe thead th {\n",
       "        text-align: right;\n",
       "    }\n",
       "</style>\n",
       "<table border=\"1\" class=\"dataframe\">\n",
       "  <thead>\n",
       "    <tr style=\"text-align: right;\">\n",
       "      <th></th>\n",
       "    </tr>\n",
       "  </thead>\n",
       "  <tbody>\n",
       "  </tbody>\n",
       "</table>\n",
       "</div>"
      ],
      "text/plain": [
       "Empty DataFrame\n",
       "Columns: []\n",
       "Index: []"
      ]
     },
     "execution_count": 9,
     "metadata": {},
     "output_type": "execute_result"
    }
   ],
   "source": [
    "leads = form.get_leads(fields=[\n",
    "    Lead.Field.created_time,\n",
    "    Lead.Field.field_data\n",
    "])\n",
    "\n",
    "data = []\n",
    "for lead in leads:\n",
    "    row = {'created_time': lead['created_time']}\n",
    "    for field in lead['field_data']:\n",
    "        row[field['name']] = field['values'][0] if field['values'] else None\n",
    "    data.append(row)\n",
    "\n",
    "df = pd.DataFrame(data)\n",
    "df"
   ]
  }
 ],
 "metadata": {
  "kernelspec": {
   "display_name": "Python 3",
   "language": "python",
   "name": "python3"
  },
  "language_info": {
   "codemirror_mode": {
    "name": "ipython",
    "version": 3
   },
   "file_extension": ".py",
   "mimetype": "text/x-python",
   "name": "python",
   "nbconvert_exporter": "python",
   "pygments_lexer": "ipython3",
   "version": "3.11.9"
  }
 },
 "nbformat": 4,
 "nbformat_minor": 2
}
